{
 "cells": [
  {
   "cell_type": "markdown",
   "metadata": {},
   "source": [
    "##Python Assignment"
   ]
  },
  {
   "cell_type": "code",
   "execution_count": 4,
   "metadata": {},
   "outputs": [],
   "source": [
    "#Load requisite packages and install them (Biopython)\n",
    "from Bio import SeqIO\n",
    "from Bio.Data import CodonTable\n",
    "import pandas as pd\n"
   ]
  },
  {
   "cell_type": "code",
   "execution_count": 5,
   "metadata": {
    "collapsed": true
   },
   "outputs": [],
   "source": [
    "#Question 1: This code creates a function. The function is used, overall, to take a fasta file and pull out sequences. \n",
    "\n",
    "def get_sequences_from_file(fasta_fn):\n",
    "    #This part is used to designate the input file (fasta_fn). \n",
    "    sequence_data_dict = {}\n",
    "    #This initializes a dictionary for placing info into.\n",
    "    for record in SeqIO.parse(fasta_fn, \"fasta\"):\n",
    "        #looping through records in SeqIO, while running a parse function as well on the fasta file. \n",
    "        description = record.description.split()\n",
    "        species_name = description[1] + \" \" + description[2]\n",
    "        sequence_data_dict[species_name] = record.seq\n",
    "        #This loop takes the sequences pulled from the fasta file, and assigns variables in the dictionary to different\n",
    "        #information from the fasta file, providing each entry with a species name, description, etc. \n",
    "    return(sequence_data_dict)"
   ]
  },
  {
   "cell_type": "code",
   "execution_count": 6,
   "metadata": {
    "collapsed": true
   },
   "outputs": [],
   "source": [
    "#use the above function to grab sequences from our penguins file, then create a string out of one as a practice sequence for the\n",
    "#next function I create. \n",
    "peng_seqs = get_sequences_from_file(\"penguins_cytb.fasta\")\n",
    "practice_seq = str(peng_seqs['Aptenodytes forsteri'])\n"
   ]
  },
  {
   "cell_type": "code",
   "execution_count": 7,
   "metadata": {
    "collapsed": true
   },
   "outputs": [],
   "source": [
    "#Question 2\n",
    "\n",
    "def translate_function(string_nucleotides):\n",
    "    #define new function acting on string_nucleotides\n",
    "    mito_table = CodonTable.unambiguous_dna_by_name[\"Vertebrate Mitochondrial\"]\n",
    "    aa_list = []\n",
    "    stop_codons = ('TAA', 'TAG', 'AGA', 'AGG')\n",
    "    #initialize three objects that will be useful later, including an empty list\n",
    "    codons = [string_nucleotides[i:i+3] for i in range(0, len(string_nucleotides),3)]\n",
    "    #set codons as a list that contains groups of 3 nucleotides from string_nucleotides starting at 0 and going to the\n",
    "    #end, as items of that list.\n",
    "    for codon in codons:\n",
    "        if codon not in stop_codons:\n",
    "            aa_list.extend(mito_table.forward_table[codon])\n",
    "            #loop through each of the items in codons, translating each and adding them to the end of the empty list aa_list, \n",
    "            #but only if the codons are not known stop codons.\n",
    "        else:\n",
    "            break\n",
    "            #exits the loop if we hit a stop codon\n",
    "    aa_seq = ''.join(aa_list)\n",
    "    #join all items of the aa_list into one string with no characters between the items.\n",
    "    return(str(aa_seq))\n",
    "    #gives new amino acid sequence as one string with no spaces."
   ]
  },
  {
   "cell_type": "code",
   "execution_count": 8,
   "metadata": {},
   "outputs": [
    {
     "data": {
      "text/plain": [
       "'MAPNLRKSHPLLKMINNSLIDLPTPSNISAWWNFGSLLGICLTTQILTGLLLAMHYTADTTLAFSSVAHTCRNVQYGWLIRNLHANGASFFFICIYLHIGRGFYYGSYLYKETWNTGIILLLTLMATAFVGYVLPWGQMSFWGATVITNLFSAIPYIGQTLVEWTWGGFSVDNPTLTRFFALHFLLPFMIAGLTLIHLTFLHESGSNNPLGIVANSDKIPFHPYYSTKDILGFALMLLPLTTLALFSPNLLGDPENFTPANPLVTPPHIKPEWYFLFAYAILRSIPNKLGGVLALAASVLILFLIPLLHKSKQRTMAFRPLSQLLFWALVANLIILTWVGSQPVEHPFIIIGQLASLTYFTTLLILFPIAGALENKMLNH'"
      ]
     },
     "execution_count": 8,
     "metadata": {},
     "output_type": "execute_result"
    }
   ],
   "source": [
    "translate_function(practice_seq)\n",
    "#testing function"
   ]
  },
  {
   "cell_type": "code",
   "execution_count": 9,
   "metadata": {
    "collapsed": true
   },
   "outputs": [],
   "source": [
    "#Question 3\n",
    "\n",
    "from Bio.Seq import Seq\n",
    "from Bio.Alphabet import IUPAC\n",
    "#Import Seq to work with Seq objects, and IUPAC to give us alphabet types we can use.\n",
    "def translate_easy(string_nucleotides):\n",
    "    dna_as_seq = Seq(string_nucleotides, IUPAC.unambiguous_dna)\n",
    "    #convert string of nucleotides into Seq object using the unambiguous dna alphabet\n",
    "    aa_seq = dna_as_seq.translate(table='Vertebrate Mitochondrial', to_stop= True)\n",
    "    #translates the Seq into amino acids using the standard table, to a stop codon using arguments from the biopython site. \n",
    "    return(aa_seq)\n",
    "    #returns the translated seq"
   ]
  },
  {
   "cell_type": "code",
   "execution_count": 10,
   "metadata": {},
   "outputs": [
    {
     "data": {
      "text/plain": [
       "Seq('MAPNLRKSHPLLKMINNSLIDLPTPSNISAWWNFGSLLGICLTTQILTGLLLAM...LNH', IUPACProtein())"
      ]
     },
     "execution_count": 10,
     "metadata": {},
     "output_type": "execute_result"
    }
   ],
   "source": [
    "translate_easy(practice_seq)\n",
    "#testing function"
   ]
  },
  {
   "cell_type": "code",
   "execution_count": 11,
   "metadata": {
    "collapsed": true
   },
   "outputs": [],
   "source": [
    "#Question 4\n",
    "\n",
    "practice_aa = Seq('MAPNLRKSHPLLKIINNSLIDLPTPSNISA', IUPAC.protein)\n",
    "from Bio.SeqUtils.ProtParam import ProteinAnalysis\n",
    "#import useful protein functions from Biopython\n",
    "def mol_weight(aa_seq):\n",
    "    #define new function\n",
    "    aa_string = str(aa_seq)\n",
    "    #change Seq containing amino acids to a string\n",
    "    aa_analyzed = ProteinAnalysis(aa_string)\n",
    "    #run protein analysis on aa_string\n",
    "    return(aa_analyzed.molecular_weight())\n",
    "    #returns molecular weight using biopython's molecular weight function"
   ]
  },
  {
   "cell_type": "code",
   "execution_count": 12,
   "metadata": {},
   "outputs": [
    {
     "data": {
      "text/plain": [
       "3268.8268000000007"
      ]
     },
     "execution_count": 12,
     "metadata": {},
     "output_type": "execute_result"
    }
   ],
   "source": [
    "mol_weight(practice_aa)\n",
    "#test function"
   ]
  },
  {
   "cell_type": "code",
   "execution_count": 13,
   "metadata": {
    "collapsed": true
   },
   "outputs": [],
   "source": [
    "#Question 5\n",
    "\n",
    "def GC_content(string_nucleotides):\n",
    "    #define new function\n",
    "    count = 0\n",
    "    #set empty variable \"count\"\n",
    "    for base in string_nucleotides:\n",
    "        if base == 'G' or base == 'C':\n",
    "            count +=1\n",
    "            #loop through string and for every G or C, ratchet count up by 1\n",
    "    gc = (count/len(string_nucleotides)) *100\n",
    "    #takes count and divides by total string length, then multiplies by 100 to get percentage GC content\n",
    "    return(gc)\n",
    "#returns GC content as a percentage\n",
    "        "
   ]
  },
  {
   "cell_type": "code",
   "execution_count": 14,
   "metadata": {},
   "outputs": [
    {
     "data": {
      "text/plain": [
       "48.38145231846019"
      ]
     },
     "execution_count": 14,
     "metadata": {},
     "output_type": "execute_result"
    }
   ],
   "source": [
    "GC_content(practice_seq)\n",
    "#test function"
   ]
  },
  {
   "cell_type": "code",
   "execution_count": 15,
   "metadata": {
    "collapsed": true
   },
   "outputs": [],
   "source": [
    "#Main Assignment\n",
    "\n",
    "cytb_seqs = get_sequences_from_file(\"penguins_cytb.fasta\") \n",
    "\n",
    "penguins_df = pd.read_csv(\"penguins_mass.csv\") # Includes only data for body mass \n",
    "species_list = list(penguins_df.species)"
   ]
  },
  {
   "cell_type": "code",
   "execution_count": 16,
   "metadata": {
    "collapsed": true
   },
   "outputs": [],
   "source": [
    "#Question 6\n",
    "penguins_df['Molecular Weight'] = 'NaN'\n",
    "penguins_df['GC Content'] = 'NaN'\n",
    "#adds new columns for molecular weight and gc content, and fills with NaN values"
   ]
  },
  {
   "cell_type": "code",
   "execution_count": 17,
   "metadata": {
    "collapsed": true
   },
   "outputs": [],
   "source": [
    "#Question 7\n",
    "\n",
    "all_weights = []\n",
    "all_GCs = []\n",
    "#Initialize two lists for storing weights and GC contents\n",
    "for key, value in cytb_seqs.items():\n",
    "    nuc_string = str(value)\n",
    "    aa_seq = translate_easy(nuc_string)\n",
    "    molweight = mol_weight(aa_seq)\n",
    "    GC = GC_content(nuc_string)\n",
    "    #Loop through dictionary of species names (keys) and sequences (values), using translate and GC functions on values, and \n",
    "    #molecular weight function on amino acid sequence.\n",
    "    all_weights.append(molweight)\n",
    "    all_GCs.append(GC)\n",
    "    #Append all molecular weights and GC contents to lists initialized above as they are passed through functions.\n",
    "penguins_df['Molecular Weight'] = all_weights\n",
    "penguins_df['GC Content'] = all_GCs\n",
    "#Take newly completed lists and put them in appropriate columns in the data frame."
   ]
  },
  {
   "cell_type": "code",
   "execution_count": 18,
   "metadata": {},
   "outputs": [
    {
     "data": {
      "text/html": [
       "<div>\n",
       "<style>\n",
       "    .dataframe thead tr:only-child th {\n",
       "        text-align: right;\n",
       "    }\n",
       "\n",
       "    .dataframe thead th {\n",
       "        text-align: left;\n",
       "    }\n",
       "\n",
       "    .dataframe tbody tr th {\n",
       "        vertical-align: top;\n",
       "    }\n",
       "</style>\n",
       "<table border=\"1\" class=\"dataframe\">\n",
       "  <thead>\n",
       "    <tr style=\"text-align: right;\">\n",
       "      <th></th>\n",
       "      <th>species</th>\n",
       "      <th>mass</th>\n",
       "      <th>Molecular Weight</th>\n",
       "      <th>GC Content</th>\n",
       "    </tr>\n",
       "  </thead>\n",
       "  <tbody>\n",
       "    <tr>\n",
       "      <th>0</th>\n",
       "      <td>Aptenodytes forsteri</td>\n",
       "      <td>28.00</td>\n",
       "      <td>42459.6021</td>\n",
       "      <td>48.381452</td>\n",
       "    </tr>\n",
       "    <tr>\n",
       "      <th>1</th>\n",
       "      <td>Aptenodytes patagonicus</td>\n",
       "      <td>13.40</td>\n",
       "      <td>42563.7067</td>\n",
       "      <td>49.693788</td>\n",
       "    </tr>\n",
       "    <tr>\n",
       "      <th>2</th>\n",
       "      <td>Eudyptes chrysocome</td>\n",
       "      <td>2.80</td>\n",
       "      <td>42475.5753</td>\n",
       "      <td>51.181102</td>\n",
       "    </tr>\n",
       "    <tr>\n",
       "      <th>3</th>\n",
       "      <td>Eudyptes chrysolophus</td>\n",
       "      <td>4.50</td>\n",
       "      <td>42445.5493</td>\n",
       "      <td>50.918635</td>\n",
       "    </tr>\n",
       "    <tr>\n",
       "      <th>4</th>\n",
       "      <td>Eudyptes sclateri</td>\n",
       "      <td>4.25</td>\n",
       "      <td>42475.5753</td>\n",
       "      <td>50.831146</td>\n",
       "    </tr>\n",
       "    <tr>\n",
       "      <th>5</th>\n",
       "      <td>Eudyptula minor</td>\n",
       "      <td>1.60</td>\n",
       "      <td>42491.6408</td>\n",
       "      <td>49.256343</td>\n",
       "    </tr>\n",
       "    <tr>\n",
       "      <th>6</th>\n",
       "      <td>Pygoscelis adeliae</td>\n",
       "      <td>4.60</td>\n",
       "      <td>42458.6140</td>\n",
       "      <td>49.081365</td>\n",
       "    </tr>\n",
       "    <tr>\n",
       "      <th>7</th>\n",
       "      <td>Pygoscelis antarctica</td>\n",
       "      <td>4.10</td>\n",
       "      <td>42404.5423</td>\n",
       "      <td>47.769029</td>\n",
       "    </tr>\n",
       "    <tr>\n",
       "      <th>8</th>\n",
       "      <td>Pygoscelis papua</td>\n",
       "      <td>6.10</td>\n",
       "      <td>42595.8759</td>\n",
       "      <td>47.156605</td>\n",
       "    </tr>\n",
       "    <tr>\n",
       "      <th>9</th>\n",
       "      <td>Spheniscus demersus</td>\n",
       "      <td>3.20</td>\n",
       "      <td>42431.5490</td>\n",
       "      <td>48.293963</td>\n",
       "    </tr>\n",
       "    <tr>\n",
       "      <th>10</th>\n",
       "      <td>Spheniscus humboldti</td>\n",
       "      <td>4.75</td>\n",
       "      <td>42399.5520</td>\n",
       "      <td>49.256343</td>\n",
       "    </tr>\n",
       "    <tr>\n",
       "      <th>11</th>\n",
       "      <td>Spheniscus magellanicus</td>\n",
       "      <td>3.40</td>\n",
       "      <td>42459.6021</td>\n",
       "      <td>48.206474</td>\n",
       "    </tr>\n",
       "  </tbody>\n",
       "</table>\n",
       "</div>"
      ],
      "text/plain": [
       "                    species   mass  Molecular Weight  GC Content\n",
       "0      Aptenodytes forsteri  28.00        42459.6021   48.381452\n",
       "1   Aptenodytes patagonicus  13.40        42563.7067   49.693788\n",
       "2       Eudyptes chrysocome   2.80        42475.5753   51.181102\n",
       "3     Eudyptes chrysolophus   4.50        42445.5493   50.918635\n",
       "4         Eudyptes sclateri   4.25        42475.5753   50.831146\n",
       "5           Eudyptula minor   1.60        42491.6408   49.256343\n",
       "6        Pygoscelis adeliae   4.60        42458.6140   49.081365\n",
       "7     Pygoscelis antarctica   4.10        42404.5423   47.769029\n",
       "8          Pygoscelis papua   6.10        42595.8759   47.156605\n",
       "9       Spheniscus demersus   3.20        42431.5490   48.293963\n",
       "10     Spheniscus humboldti   4.75        42399.5520   49.256343\n",
       "11  Spheniscus magellanicus   3.40        42459.6021   48.206474"
      ]
     },
     "execution_count": 18,
     "metadata": {},
     "output_type": "execute_result"
    }
   ],
   "source": [
    "penguins_df\n",
    "#Checking that the df is changed correctly"
   ]
  },
  {
   "cell_type": "code",
   "execution_count": 19,
   "metadata": {},
   "outputs": [
    {
     "data": {
      "text/plain": [
       "[<matplotlib.text.Text at 0x224e58c65f8>,\n",
       " <matplotlib.text.Text at 0x224e5bd89e8>,\n",
       " <matplotlib.text.Text at 0x224e5c2f2b0>,\n",
       " <matplotlib.text.Text at 0x224e5c2fc88>,\n",
       " <matplotlib.text.Text at 0x224e5c326a0>,\n",
       " <matplotlib.text.Text at 0x224e5c370b8>,\n",
       " <matplotlib.text.Text at 0x224e5c37a90>,\n",
       " <matplotlib.text.Text at 0x224e5c3e4a8>,\n",
       " <matplotlib.text.Text at 0x224e5c3ee80>,\n",
       " <matplotlib.text.Text at 0x224e5c44898>,\n",
       " <matplotlib.text.Text at 0x224e5c4a2b0>,\n",
       " <matplotlib.text.Text at 0x224e5c4ac88>]"
      ]
     },
     "execution_count": 19,
     "metadata": {},
     "output_type": "execute_result"
    },
    {
     "data": {
      "image/png": "[encoded data removed]",
      "text/plain": [
       "<matplotlib.figure.Figure at 0x224e5cfb0f0>"
      ]
     },
     "metadata": {},
     "output_type": "display_data"
    }
   ],
   "source": [
    "#Question 8 \n",
    "import seaborn as sns\n",
    "%matplotlib inline\n",
    "#import seaborn and make the plots display after the cell that generated them.\n",
    "b = sns.barplot(x= \"species\", y= \"mass\", data=penguins_df)\n",
    "b.set_xticklabels(rotation=90, labels=penguins_df['species'])\n",
    "#found a way to rotate axis labels here: https://stackoverflow.com/questions/26540035/rotate-label-text-in-seaborn-factorplot\n",
    "\n",
    "#Answers to questions: \n",
    "## *Q1* What is the smallest penguin species? \n",
    "#Eudyptula minor\n",
    "## *Q2* What else is interesting about this species? \n",
    "#The original creator of linux was pecked by a penguin of this species, and chose the mascot for Linux to be \"Tux\" (a penguin)\n",
    "#as a result (credit to the wikipedia article at https://en.wikipedia.org/wiki/Little_penguin)\n"
   ]
  },
  {
   "cell_type": "code",
   "execution_count": 20,
   "metadata": {},
   "outputs": [
    {
     "data": {
      "image/png": "[encoded data removed]",
      "text/plain": [
       "<matplotlib.figure.Figure at 0x224e5c2f940>"
      ]
     },
     "metadata": {},
     "output_type": "display_data"
    }
   ],
   "source": [
    "# Question 9\n",
    "\n",
    "c = sns.regplot(x = \"GC Content\", y = \"Molecular Weight\", data = penguins_df)\n",
    "#A simple scatter plot with regression line between GC content and mol weight. "
   ]
  },
  {
   "cell_type": "code",
   "execution_count": 21,
   "metadata": {
    "collapsed": true
   },
   "outputs": [],
   "source": [
    "#Question 10\n",
    "penguins_df.to_csv('penguins_mass_cytb.csv')\n",
    "#found at https://stackoverflow.com/questions/16923281/pandas-writing-dataframe-to-csv-file"
   ]
  },
  {
   "cell_type": "code",
   "execution_count": null,
   "metadata": {
    "collapsed": true
   },
   "outputs": [],
   "source": [
    "#Question 11\n",
    "#If we were so inclined, we could use this dataset and Python to create primers for these sequences using \n",
    "#reverse complementation and other functions of biopython. Also, we could generate attributed of those primers such\n",
    "#as melt temp, GC content, and if we were creative enough, self-annealing possibilities. "
   ]
  }
 ],
 "metadata": {
  "kernelspec": {
   "display_name": "Python 3",
   "language": "python",
   "name": "python3"
  },
  "language_info": {
   "codemirror_mode": {
    "name": "ipython",
    "version": 3
   },
   "file_extension": ".py",
   "mimetype": "text/x-python",
   "name": "python",
   "nbconvert_exporter": "python",
   "pygments_lexer": "ipython3",
   "version": "3.6.2"
  }
 },
 "nbformat": 4,
 "nbformat_minor": 2
}
